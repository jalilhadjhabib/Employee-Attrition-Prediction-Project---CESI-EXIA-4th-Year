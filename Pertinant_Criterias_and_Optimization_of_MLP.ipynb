{
 "cells": [
  {
   "cell_type": "markdown",
   "id": "b3a465de",
   "metadata": {},
   "source": [
    "# Importer les données du fichier \"variables\"\n"
   ]
  },
  {
   "cell_type": "code",
   "execution_count": 2,
   "id": "ce7b6e9a",
   "metadata": {},
   "outputs": [],
   "source": [
    "import numpy as np\n",
    "import pandas as pd\n",
    "import pickle\n",
    "\n",
    "x=np.load(\"variables/x.npy\")\n",
    "y=np.load(\"variables/y.npy\")\n",
    "x_train=np.load(\"variables/x_train.npy\")\n",
    "x_test=np.load(\"variables/x_test.npy\")\n",
    "y_test=np.load(\"variables/y_test.npy\")\n",
    "y_train=np.load(\"variables/y_train.npy\")\n",
    "y_train=np.load(\"variables/y_train.npy\")\n",
    "x_1 = pd.read_pickle(\"variables/x_1\")\n",
    "x_train_set = pd.read_pickle(\"variables/x_train_set\")\n",
    "x_test_set = pd.read_pickle(\"variables/x_test_set\")\n",
    "main_data = pd.read_pickle(\"variables/main_data\")\n",
    "best_mlp = pickle.load(open('variables/mlp_model.sav', 'rb')) \n",
    "best_RF_clf = pickle.load(open('variables/best_RF_clf.sav', 'rb'))"
   ]
  },
  {
   "cell_type": "markdown",
   "id": "be80cc76",
   "metadata": {},
   "source": [
    "# Calculer les caractéristiques  les plus infulantes\n"
   ]
  },
  {
   "cell_type": "code",
   "execution_count": 3,
   "id": "f97a9686",
   "metadata": {},
   "outputs": [],
   "source": [
    "feature_importances = best_RF_clf.feature_importances_"
   ]
  },
  {
   "cell_type": "markdown",
   "id": "f5343cdc",
   "metadata": {},
   "source": [
    "# Convertire en critères\n",
    " En out put on retrouver les critères du plus pertinants au moins ifluants"
   ]
  },
  {
   "cell_type": "code",
   "execution_count": 9,
   "id": "9efac384",
   "metadata": {},
   "outputs": [
    {
     "name": "stdout",
     "output_type": "stream",
     "text": [
      "Ci dessous sont regroupés les critères du plus pertinants au moins influant :\n",
      "\n",
      "[(0.09824789518229983, 'WorkMeanTime'), (0.07382028553606194, 'Age'), (0.06952828962653161, 'MonthlyIncome'), (0.06549642339848573, 'TotalWorkingYears'), (0.058244520218226126, 'YearsAtCompany'), (0.05207455423267441, 'DistanceFromHome'), (0.05116387179955666, 'PercentSalaryHike'), (0.04464988135724109, 'YearsWithCurrManager'), (0.04325552655044438, 'NumCompaniesWorked'), (0.03708155147841288, 'YearsSinceLastPromotion'), (0.03637152706622121, 'JobSatisfaction'), (0.03375782023858783, 'EnvironmentSatisfaction'), (0.0329274134466722, 'TrainingTimesLastYear'), (0.03226630154240355, 'WorkLifeBalance'), (0.030493051653678827, 'JobLevel'), (0.029981177700106075, 'JobInvolvement'), (0.027444499254844976, 'StockOptionLevel'), (0.011642871052597542, 'JobRole'), (0.011392341390249222, 'MaritalStatus'), (0.010973083734865469, 'Gender'), (0.009542033767510442, 'PerformanceRating'), (0.007874471130970472, 'Department'), (0.0, 'StandardHours'), (0.0, 'EmployeeCount')]\n"
     ]
    }
   ],
   "source": [
    "extra_attribs= [  \"Department\" , \"Gender\",  \"JobRole\", \"MaritalStatus\"]\n",
    "\n",
    "main_data_num= main_data.select_dtypes(include=[np.number]) \n",
    "num_attribs = list(main_data_num)\n",
    "\n",
    "attributes = num_attribs + extra_attribs \n",
    "best_arg = sorted(zip(feature_importances, attributes), reverse=True)\n",
    "print(\"Ci dessous sont regroupés les critères du plus pertinants au moins influant :\")\n",
    "print(\"\")\n",
    "print(best_arg)"
   ]
  },
  {
   "cell_type": "markdown",
   "id": "6afeb697",
   "metadata": {},
   "source": [
    "# On supprime les valeurs avec le poids le plus faible "
   ]
  },
  {
   "cell_type": "code",
   "execution_count": 11,
   "id": "40e9f0ac",
   "metadata": {},
   "outputs": [],
   "source": [
    "x_train_set.drop(\"EmployeeCount\",axis =1 ,inplace = True)\n",
    "x_train_set.drop(\"StandardHours\",axis =1 ,inplace = True)\n",
    "x_train_set.drop(\"Department\",axis =1 ,inplace = True)\n",
    "\n",
    "x_test_set.drop(\"EmployeeCount\",axis =1 ,inplace = True)\n",
    "x_test_set.drop(\"StandardHours\",axis =1 ,inplace = True)\n",
    "x_test_set.drop(\"Department\",axis =1 ,inplace = True)\n",
    "\n",
    "x_1.drop(\"EmployeeCount\", axis=1, inplace=True)\n",
    "x_1.drop(\"StandardHours\", axis=1, inplace=True)\n",
    "x_1.drop(\"Department\", axis=1, inplace=True)\n"
   ]
  },
  {
   "cell_type": "markdown",
   "id": "70458d1b",
   "metadata": {},
   "source": [
    "# On standarise les données pour l'entrainment du model"
   ]
  },
  {
   "cell_type": "code",
   "execution_count": 16,
   "id": "dd446861",
   "metadata": {},
   "outputs": [],
   "source": [
    "from sklearn.pipeline import Pipeline\n",
    "from sklearn.compose import ColumnTransformer\n",
    "from sklearn.preprocessing import StandardScaler\n",
    "from sklearn.impute import SimpleImputer\n",
    "from sklearn.preprocessing import OneHotEncoder\n",
    "\n",
    "num_pipeline = Pipeline([\n",
    "        ('imputer', SimpleImputer(strategy=\"median\")),\n",
    "        ('std_scaler', StandardScaler()),\n",
    "    ])\n",
    "\n",
    "x_1_num = x_1.select_dtypes(include=[np.number]) \n",
    "\n",
    "num_attribs = list(x_1_num)\n",
    "cat_attribs= [  \"Gender\",  \"JobRole\", \"MaritalStatus\"]\n",
    "full_pipeline = ColumnTransformer([\n",
    "        (\"num\", num_pipeline, num_attribs),\n",
    "         (\"cat\", OneHotEncoder(), cat_attribs),\n",
    "    ])\n"
   ]
  },
  {
   "cell_type": "code",
   "execution_count": 17,
   "id": "3d4ca3da",
   "metadata": {},
   "outputs": [],
   "source": [
    "\n",
    "x_train = full_pipeline.fit_transform(x_train_set)\n",
    "x_test = full_pipeline.fit_transform(x_test_set)\n",
    "\n",
    "x = full_pipeline.fit_transform(x_1)"
   ]
  },
  {
   "cell_type": "markdown",
   "id": "d849a273",
   "metadata": {},
   "source": [
    "# On entraine le MLP le meilleur model pour notre etude"
   ]
  },
  {
   "cell_type": "code",
   "execution_count": 18,
   "id": "72b0cda1",
   "metadata": {},
   "outputs": [
    {
     "data": {
      "text/plain": [
       "MLPClassifier(activation='tanh', alpha=0.05, max_iter=300, random_state=1)"
      ]
     },
     "execution_count": 18,
     "metadata": {},
     "output_type": "execute_result"
    }
   ],
   "source": [
    "%%capture --no-display\n",
    "best_mlp.fit(x_train, y_train)"
   ]
  },
  {
   "cell_type": "code",
   "execution_count": 19,
   "id": "6743a7a5",
   "metadata": {},
   "outputs": [],
   "source": [
    "%%capture --no-display\n",
    "from sklearn.model_selection import cross_val_score\n",
    "\n",
    "best_mlp_scores = cross_val_score(best_mlp, x, y, cv=10, scoring=\"f1\")\n"
   ]
  },
  {
   "cell_type": "code",
   "execution_count": null,
   "id": "d95e642c",
   "metadata": {},
   "outputs": [],
   "source": [
    "print(\"Scores:\", best_mlp_scores)\n",
    "print(\"Mean:\", best_mlp_scores.mean())\n",
    "print(\"Standard deviation:\", best_mlp_scores.std())\n"
   ]
  }
 ],
 "metadata": {
  "kernelspec": {
   "display_name": "Python 3",
   "language": "python",
   "name": "python3"
  },
  "language_info": {
   "codemirror_mode": {
    "name": "ipython",
    "version": 3
   },
   "file_extension": ".py",
   "mimetype": "text/x-python",
   "name": "python",
   "nbconvert_exporter": "python",
   "pygments_lexer": "ipython3",
   "version": "3.8.8"
  }
 },
 "nbformat": 4,
 "nbformat_minor": 5
}
