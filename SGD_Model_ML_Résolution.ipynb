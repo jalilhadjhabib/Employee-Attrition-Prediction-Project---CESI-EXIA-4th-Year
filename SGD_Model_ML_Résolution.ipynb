{
 "cells": [
  {
   "cell_type": "code",
   "execution_count": 1,
   "id": "3ca8f082",
   "metadata": {},
   "outputs": [],
   "source": [
    "import numpy as np\n",
    "\n",
    "x=np.load(\"variables/x.npy\")\n",
    "y=np.load(\"variables/y.npy\")\n",
    "x_train=np.load(\"variables/x_train.npy\")\n",
    "x_test=np.load(\"variables/x_test.npy\")\n",
    "y_test=np.load(\"variables/y_test.npy\")\n",
    "y_train=np.load(\"variables/y_train.npy\")"
   ]
  },
  {
   "cell_type": "markdown",
   "id": "a9ce8204",
   "metadata": {},
   "source": [
    "## STOCHASTIC GRADIENT DECENT CLASSIFIER:"
   ]
  },
  {
   "cell_type": "code",
   "execution_count": 2,
   "id": "9fa1e1de",
   "metadata": {},
   "outputs": [
    {
     "data": {
      "text/plain": [
       "SGDClassifier(max_iter=200, random_state=42)"
      ]
     },
     "execution_count": 2,
     "metadata": {},
     "output_type": "execute_result"
    }
   ],
   "source": [
    "from sklearn.linear_model import SGDClassifier\n",
    "\n",
    "sgd_clf = SGDClassifier(max_iter=200, random_state=42)\n",
    "sgd_clf.fit(x_train, y_train) "
   ]
  },
  {
   "cell_type": "code",
   "execution_count": 3,
   "id": "d81ddec5",
   "metadata": {},
   "outputs": [
    {
     "data": {
      "text/plain": [
       "0.8378684807256236"
      ]
     },
     "execution_count": 3,
     "metadata": {},
     "output_type": "execute_result"
    }
   ],
   "source": [
    "sgd_clf.score(x_train,y_train)"
   ]
  },
  {
   "cell_type": "markdown",
   "id": "36904118",
   "metadata": {},
   "source": [
    "### VALIDATION CROISÉE :"
   ]
  },
  {
   "cell_type": "code",
   "execution_count": 4,
   "id": "2b890100",
   "metadata": {},
   "outputs": [
    {
     "name": "stdout",
     "output_type": "stream",
     "text": [
      "Scores: [0.34862385 0.3        0.49253731 0.4962406  0.34482759 0.22988506\n",
      " 0.22680412 0.49612403 0.46031746 0.19753086]\n",
      "Mean: 0.3592890891059849\n",
      "Standard deviation: 0.11390470154628711\n"
     ]
    }
   ],
   "source": [
    "from sklearn.model_selection import cross_val_score\n",
    "\n",
    "def display_scores(scores):\n",
    "    print(\"Scores:\", scores)\n",
    "    print(\"Mean:\", scores.mean())\n",
    "    print(\"Standard deviation:\", scores.std())\n",
    "    \n",
    "sgd_clf_scores = cross_val_score(sgd_clf, x, \n",
    "                                      y, cv=10, scoring=\"f1\")\n",
    "\n",
    "display_scores(sgd_clf_scores)"
   ]
  },
  {
   "cell_type": "markdown",
   "id": "4b56efc7",
   "metadata": {},
   "source": [
    "### GridSearchCV\n",
    "Afin de trouver les meilleurs paramètres, nous allons utiliser la méthode d'optimisation GridSearchCV."
   ]
  },
  {
   "cell_type": "code",
   "execution_count": 5,
   "id": "b35f96a9",
   "metadata": {},
   "outputs": [
    {
     "data": {
      "text/plain": [
       "GridSearchCV(cv=10, estimator=SGDClassifier(max_iter=200, random_state=42),\n",
       "             param_grid=[{'alpha': [0.0001, 0.001, 0.01, 0.1, 1.0, 10.0, 100.0,\n",
       "                                    1000.0],\n",
       "                          'loss': ['hinge', 'log', 'modified_huber',\n",
       "                                   'squared_hinge', 'perceptron'],\n",
       "                          'penalty': ['l1', 'l2', 'elasticnet']}],\n",
       "             return_train_score=True, scoring='f1')"
      ]
     },
     "execution_count": 5,
     "metadata": {},
     "output_type": "execute_result"
    }
   ],
   "source": [
    "%%capture --no-display\n",
    "from sklearn.model_selection import GridSearchCV\n",
    "\n",
    "\n",
    "sgd_clf_param_grid = [\n",
    "    {'alpha': [1e-4, 1e-3, 1e-2, 1e-1, 1e0, 1e1, 1e2, 1e3],\n",
    "    'loss': ['hinge', 'log', 'modified_huber', 'squared_hinge', 'perceptron'], \n",
    "     'penalty': ['l1', 'l2', 'elasticnet']}\n",
    "  ]\n",
    "\n",
    "grid_search = GridSearchCV(sgd_clf, sgd_clf_param_grid, cv=10,\n",
    "                           scoring='f1', return_train_score=True)\n",
    "grid_search.fit(x, y)"
   ]
  },
  {
   "cell_type": "code",
   "execution_count": 6,
   "id": "5a617a50",
   "metadata": {},
   "outputs": [
    {
     "data": {
      "text/plain": [
       "{'alpha': 0.0001, 'loss': 'modified_huber', 'penalty': 'l1'}"
      ]
     },
     "execution_count": 6,
     "metadata": {},
     "output_type": "execute_result"
    }
   ],
   "source": [
    "grid_search.best_params_"
   ]
  },
  {
   "cell_type": "code",
   "execution_count": 7,
   "id": "830e11b7",
   "metadata": {},
   "outputs": [],
   "source": [
    "best_sgd = grid_search.best_estimator_"
   ]
  },
  {
   "cell_type": "code",
   "execution_count": 8,
   "id": "9393c5c7",
   "metadata": {},
   "outputs": [],
   "source": [
    "%%capture --no-display\n",
    "from sklearn.model_selection import cross_val_score\n",
    "\n",
    "best_sgd_score = cross_val_score(best_sgd, x, \n",
    "                                          y, cv=10, scoring=\"f1\")"
   ]
  },
  {
   "cell_type": "code",
   "execution_count": 9,
   "id": "47b18767",
   "metadata": {},
   "outputs": [
    {
     "name": "stdout",
     "output_type": "stream",
     "text": [
      "Scores: [0.36842105 0.27272727 0.46017699 0.45333333 0.33333333 0.4379562\n",
      " 0.38926174 0.45945946 0.39694656 0.46391753]\n",
      "Mean: 0.4035533482640118\n",
      "Standard deviation: 0.060963643096961354\n"
     ]
    }
   ],
   "source": [
    "display_scores(best_sgd_score)"
   ]
  },
  {
   "cell_type": "markdown",
   "id": "6033ed7b",
   "metadata": {},
   "source": [
    "### Matrice de Confusion\n",
    "\n",
    "Nous allons maintenant utiliser afin d'étudier les performances de notre système de classification supervisé. Calculons maintenant cette matrice avec notre modèle amélioré."
   ]
  },
  {
   "cell_type": "code",
   "execution_count": 10,
   "id": "43bbb5f5",
   "metadata": {},
   "outputs": [],
   "source": [
    "%%capture --no-display\n",
    "\n",
    "from sklearn.model_selection import cross_val_predict\n",
    "y_train_pred = cross_val_predict(best_sgd, x_train, y_train, cv=10)"
   ]
  },
  {
   "cell_type": "code",
   "execution_count": 11,
   "id": "29861696",
   "metadata": {},
   "outputs": [
    {
     "data": {
      "text/plain": [
       "array([[2469,  487],\n",
       "       [ 339,  233]], dtype=int64)"
      ]
     },
     "execution_count": 11,
     "metadata": {},
     "output_type": "execute_result"
    }
   ],
   "source": [
    "from sklearn.metrics import confusion_matrix\n",
    "confusion_matrix(y_train, y_train_pred)"
   ]
  },
  {
   "cell_type": "code",
   "execution_count": 12,
   "id": "9b8beb3d",
   "metadata": {},
   "outputs": [
    {
     "data": {
      "text/plain": [
       "array([[2956,    0],\n",
       "       [   0,  572]], dtype=int64)"
      ]
     },
     "execution_count": 12,
     "metadata": {},
     "output_type": "execute_result"
    }
   ],
   "source": [
    "y_train_perfect_predictions = y_train\n",
    "confusion_matrix(y_train, y_train_perfect_predictions)"
   ]
  },
  {
   "cell_type": "markdown",
   "id": "fda35fc3",
   "metadata": {},
   "source": [
    "### Recall et precision en fonction du seuil\n",
    "Affichons les valeurs du recall et de la précision en fonction du seuil ainsi que la valeur de la précision en fonction du recall"
   ]
  },
  {
   "cell_type": "code",
   "execution_count": 13,
   "id": "c6a8c914",
   "metadata": {},
   "outputs": [
    {
     "data": {
      "text/plain": [
       "0.3236111111111111"
      ]
     },
     "execution_count": 13,
     "metadata": {},
     "output_type": "execute_result"
    }
   ],
   "source": [
    "from sklearn.metrics import precision_score, recall_score\n",
    "precision_score(y_train, y_train_pred)"
   ]
  },
  {
   "cell_type": "code",
   "execution_count": 14,
   "id": "9cce4a3f",
   "metadata": {},
   "outputs": [
    {
     "data": {
      "text/plain": [
       "0.40734265734265734"
      ]
     },
     "execution_count": 14,
     "metadata": {},
     "output_type": "execute_result"
    }
   ],
   "source": [
    "recall_score(y_train, y_train_pred)"
   ]
  },
  {
   "cell_type": "code",
   "execution_count": 15,
   "id": "b10d9b0b",
   "metadata": {},
   "outputs": [],
   "source": [
    "\n",
    "y_scores = cross_val_predict(best_sgd, x_train, y_train, cv=10,\n",
    "                             method=\"decision_function\")"
   ]
  },
  {
   "cell_type": "code",
   "execution_count": 16,
   "id": "183f195a",
   "metadata": {},
   "outputs": [],
   "source": [
    "from sklearn.metrics import precision_recall_curve\n",
    "precisions, recalls, thresholds = precision_recall_curve(y_train, y_scores)"
   ]
  },
  {
   "cell_type": "code",
   "execution_count": 17,
   "id": "1386fbb3",
   "metadata": {},
   "outputs": [
    {
     "data": {
      "image/png": "[encoded data removed]",
      "text/plain": [
       "<Figure size 576x288 with 1 Axes>"
      ]
     },
     "metadata": {
      "needs_background": "light"
     },
     "output_type": "display_data"
    }
   ],
   "source": [
    "from matplotlib import pyplot as plt\n",
    "\n",
    "def plot_precision_recall_vs_threshold(precisions, recalls, thresholds):\n",
    "    plt.plot(thresholds, precisions[:-1], \"b-\", label=\"Precision\", linewidth=2)\n",
    "    plt.plot(thresholds, recalls[:-1], \"g-\", label=\"Recall\", linewidth=2)\n",
    "    plt.xlabel(\"Threshold\", fontsize=16)\n",
    "    plt.legend(loc=\"upper left\", fontsize=16)\n",
    "    plt.ylim([0, 1])\n",
    "\n",
    "plt.figure(figsize=(8, 4))\n",
    "plot_precision_recall_vs_threshold(precisions, recalls, thresholds)\n",
    "plt.xlim([-1, 1])\n",
    "#save_fig(\"precision_recall_vs_threshold_plot\")\n",
    "plt.show()"
   ]
  },
  {
   "cell_type": "code",
   "execution_count": 18,
   "id": "437567af",
   "metadata": {},
   "outputs": [
    {
     "data": {
      "image/png": "[encoded data removed]",
      "text/plain": [
       "<Figure size 576x432 with 1 Axes>"
      ]
     },
     "metadata": {
      "needs_background": "light"
     },
     "output_type": "display_data"
    }
   ],
   "source": [
    "def plot_precision_vs_recall(precisions, recalls):\n",
    "    plt.plot(recalls, precisions, \"k-\", linewidth=2)\n",
    "    plt.xlabel(\"Recall\", fontsize=16)\n",
    "    plt.ylabel(\"Precision\", fontsize=16)\n",
    "    plt.axis([0, 1, 0, 1])\n",
    "\n",
    "plt.figure(figsize=(8, 6))\n",
    "plot_precision_vs_recall(precisions, recalls)\n",
    "#save_fig(\"precision_vs_recall_plot\")\n",
    "plt.show()"
   ]
  },
  {
   "cell_type": "code",
   "execution_count": 19,
   "id": "43bc06ea",
   "metadata": {},
   "outputs": [
    {
     "data": {
      "text/plain": [
       "(0.34452296819787986, 0.3409090909090909)"
      ]
     },
     "execution_count": 19,
     "metadata": {},
     "output_type": "execute_result"
    }
   ],
   "source": [
    "y_train_pred_90 = (y_scores > 0.3)\n",
    "thresholds\n",
    "precision_score(y_train, y_train_pred_90), recall_score(y_train, y_train_pred_90)"
   ]
  },
  {
   "cell_type": "markdown",
   "id": "f371125b",
   "metadata": {},
   "source": [
    " ### Courbe ROC\n",
    " Affichons la courbe roc afin de confronter notre taux de vrai positif par rapport au taux de faux positif. plus la courbe se rapproche du coin supérieur gauche, plus notre taux de vrai positif est idéal, et on évite un maximum de faux positif. On utilise l'air sous la courbe ROC afin de comparer nos modèles, qui doit être le plus proche de 1."
   ]
  },
  {
   "cell_type": "code",
   "execution_count": 20,
   "id": "d7621600",
   "metadata": {},
   "outputs": [],
   "source": [
    "from sklearn.metrics import roc_curve\n",
    "\n",
    "fpr_sgd, tpr_sgd, thresholds = roc_curve(y_train, y_scores)"
   ]
  },
  {
   "cell_type": "code",
   "execution_count": 21,
   "id": "7fe03d03",
   "metadata": {},
   "outputs": [
    {
     "data": {
      "image/png": "[encoded data removed]",
      "text/plain": [
       "<Figure size 576x432 with 1 Axes>"
      ]
     },
     "metadata": {
      "needs_background": "light"
     },
     "output_type": "display_data"
    }
   ],
   "source": [
    "def plot_roc_curve(fpr_sgd, tpr_sgd, label=None):\n",
    "    plt.plot(fpr_sgd, tpr_sgd, linewidth=2, label=label)\n",
    "    plt.plot([0, 1], [0, 1], 'k--')\n",
    "    plt.axis([0, 1, 0, 1])\n",
    "    plt.xlabel('False Positive Rate', fontsize=16)\n",
    "    plt.ylabel('True Positive Rate', fontsize=16)\n",
    "\n",
    "plt.figure(figsize=(8, 6))\n",
    "plot_roc_curve(fpr_sgd, tpr_sgd)\n",
    "#save_fig(\"roc_curve_plot\")\n",
    "plt.show()"
   ]
  },
  {
   "cell_type": "code",
   "execution_count": 22,
   "id": "1aa56f71",
   "metadata": {},
   "outputs": [
    {
     "data": {
      "text/plain": [
       "0.7003605325662159"
      ]
     },
     "execution_count": 22,
     "metadata": {},
     "output_type": "execute_result"
    }
   ],
   "source": [
    "from sklearn.metrics import roc_auc_score \n",
    "\n",
    "roc_auc_score(y_train, y_scores) "
   ]
  },
  {
   "cell_type": "code",
   "execution_count": 24,
   "id": "e2e5226f",
   "metadata": {},
   "outputs": [],
   "source": [
    "np.save('variables/fpr_sgd.npy', fpr_sgd)\n",
    "np.save('variables/tpr_sgd.npy', tpr_sgd)"
   ]
  },
  {
   "cell_type": "code",
   "execution_count": null,
   "id": "6905f035",
   "metadata": {},
   "outputs": [],
   "source": []
  }
 ],
 "metadata": {
  "kernelspec": {
   "display_name": "Python 3",
   "language": "python",
   "name": "python3"
  },
  "language_info": {
   "codemirror_mode": {
    "name": "ipython",
    "version": 3
   },
   "file_extension": ".py",
   "mimetype": "text/x-python",
   "name": "python",
   "nbconvert_exporter": "python",
   "pygments_lexer": "ipython3",
   "version": "3.8.8"
  }
 },
 "nbformat": 4,
 "nbformat_minor": 5
}
