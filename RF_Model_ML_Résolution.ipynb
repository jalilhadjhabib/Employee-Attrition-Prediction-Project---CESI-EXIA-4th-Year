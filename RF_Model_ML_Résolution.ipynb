{
 "cells": [
  {
   "cell_type": "code",
   "execution_count": 1,
   "id": "37e39e30",
   "metadata": {},
   "outputs": [],
   "source": [
    "import numpy as np\n",
    "\n",
    "x=np.load(\"variables/x.npy\")\n",
    "y=np.load(\"variables/y.npy\")\n",
    "x_train=np.load(\"variables/x_train.npy\")\n",
    "x_test=np.load(\"variables/x_test.npy\")\n",
    "y_test=np.load(\"variables/y_test.npy\")\n",
    "y_train=np.load(\"variables/y_train.npy\")"
   ]
  },
  {
   "cell_type": "markdown",
   "id": "a12ddd38",
   "metadata": {},
   "source": [
    "## RANDOM FOREST CLASSIFIER:"
   ]
  },
  {
   "cell_type": "code",
   "execution_count": 2,
   "id": "f1636c1d",
   "metadata": {},
   "outputs": [],
   "source": [
    "from sklearn.ensemble import RandomForestClassifier\n",
    "from sklearn.model_selection import cross_val_predict\n",
    "Random_forest_clf = RandomForestClassifier(random_state=42, n_estimators=10)\n",
    "Random_forest_clf.fit(x_train, y_train)\n",
    "y_probas_forest = cross_val_predict(Random_forest_clf, x_train, y_train, cv=3,\n",
    "                                    method=\"predict_proba\")\n"
   ]
  },
  {
   "cell_type": "markdown",
   "id": "c6543f8c",
   "metadata": {},
   "source": [
    "### VALIDATION CROISÉE : "
   ]
  },
  {
   "cell_type": "code",
   "execution_count": 3,
   "id": "0e1d48e9",
   "metadata": {
    "scrolled": true
   },
   "outputs": [
    {
     "name": "stdout",
     "output_type": "stream",
     "text": [
      "Scores: [0.97167139 0.98583569 0.9631728  0.98016997 0.98866856 0.97450425\n",
      " 0.97733711 0.98583569 0.96590909 0.98295455]\n",
      "Mean: 0.9776059103785733\n",
      "Standard deviation: 0.008264770638215345\n"
     ]
    }
   ],
   "source": [
    "from sklearn.model_selection import cross_val_score\n",
    "\n",
    "def display_scores(scores):\n",
    "    print(\"Scores:\", scores)\n",
    "    print(\"Mean:\", scores.mean())\n",
    "    print(\"Standard deviation:\", scores.std())\n",
    "    \n",
    "Random_forest_clf_scores = cross_val_score(Random_forest_clf, x_train, \n",
    "                                      y_train, cv=10, scoring=\"accuracy\")\n",
    "\n",
    "display_scores(Random_forest_clf_scores)"
   ]
  },
  {
   "cell_type": "markdown",
   "id": "a7ff9859",
   "metadata": {},
   "source": [
    "### GridSearchCV\n",
    "Afin de trouver les meilleurs paramètres, nous allons utiliser la méthode d'optimisation GridSearchCV."
   ]
  },
  {
   "cell_type": "code",
   "execution_count": 4,
   "id": "0b3fcd2a",
   "metadata": {},
   "outputs": [
    {
     "name": "stdout",
     "output_type": "stream",
     "text": [
      "{'max_features': 2, 'n_estimators': 70}\n",
      "0.9926168283963228\n"
     ]
    }
   ],
   "source": [
    "import pandas as pd\n",
    "\n",
    "from sklearn.ensemble import RandomForestClassifier\n",
    "\n",
    "from sklearn.model_selection import train_test_split\n",
    "\n",
    "from sklearn.model_selection import GridSearchCV\n",
    "\n",
    "from sklearn import metrics\n",
    "\n",
    "import warnings\n",
    "\n",
    "warnings.filterwarnings('ignore')\n",
    "\n",
    "forest_params = [{'n_estimators': [40, 50, 60, 70], 'max_features': [2, 4, 6, 8, 10]}]\n",
    "\n",
    "forest_class = RandomForestClassifier(random_state=42)\n",
    "\n",
    "grid_search_RF = GridSearchCV(forest_class, forest_params, cv = 40, scoring='accuracy')\n",
    "\n",
    "grid_search_RF.fit(x_train, y_train)\n",
    "\n",
    "print(grid_search_RF.best_params_)\n",
    "\n",
    "print(grid_search_RF.best_score_)"
   ]
  },
  {
   "cell_type": "code",
   "execution_count": 12,
   "id": "0525b2d6",
   "metadata": {},
   "outputs": [],
   "source": [
    "best_RF_clf = grid_search_RF.best_estimator_"
   ]
  },
  {
   "cell_type": "code",
   "execution_count": 1,
   "id": "81cec656",
   "metadata": {},
   "outputs": [
    {
     "ename": "NameError",
     "evalue": "name 'cross_val_score' is not defined",
     "output_type": "error",
     "traceback": [
      "\u001b[1;31m---------------------------------------------------------------------------\u001b[0m",
      "\u001b[1;31mNameError\u001b[0m                                 Traceback (most recent call last)",
      "\u001b[1;32m<ipython-input-1-c13156034bc6>\u001b[0m in \u001b[0;36m<module>\u001b[1;34m\u001b[0m\n\u001b[1;32m----> 1\u001b[1;33m best_RF_clf_scores = cross_val_score(best_RF_clf, x_train, \n\u001b[0m\u001b[0;32m      2\u001b[0m                                       y_train, cv=10, scoring=\"accuracy\")\n\u001b[0;32m      3\u001b[0m \u001b[0mdisplay_scores\u001b[0m\u001b[1;33m(\u001b[0m\u001b[0mbest_RF_clf_scores\u001b[0m\u001b[1;33m)\u001b[0m\u001b[1;33m\u001b[0m\u001b[1;33m\u001b[0m\u001b[0m\n",
      "\u001b[1;31mNameError\u001b[0m: name 'cross_val_score' is not defined"
     ]
    }
   ],
   "source": [
    "best_RF_clf_scores = cross_val_score(best_RF_clf, x_train, \n",
    "                                      y_train, cv=10, scoring=\"accuracy\")\n",
    "display_scores(best_RF_clf_scores)"
   ]
  },
  {
   "cell_type": "markdown",
   "id": "51cfbcdc",
   "metadata": {},
   "source": [
    "### Matrice de Confusion\n",
    "\n",
    "Nous allons maintenant utiliser afin d'étudier les performances de notre système de classification supervisé. Calculons maintenant cette matrice avec notre modèle amélioré."
   ]
  },
  {
   "cell_type": "code",
   "execution_count": 12,
   "id": "2f2dbddf",
   "metadata": {},
   "outputs": [],
   "source": [
    "from sklearn.model_selection import cross_val_predict\n",
    "y_train_pred = cross_val_predict(best_RF_clf, x_train, y_train, cv=3)"
   ]
  },
  {
   "cell_type": "code",
   "execution_count": 13,
   "id": "4a78e4bf",
   "metadata": {},
   "outputs": [
    {
     "data": {
      "text/plain": [
       "array([[2953,    3],\n",
       "       [ 105,  467]], dtype=int64)"
      ]
     },
     "execution_count": 13,
     "metadata": {},
     "output_type": "execute_result"
    }
   ],
   "source": [
    "from sklearn.metrics import confusion_matrix\n",
    "confusion_matrix(y_train, y_train_pred)"
   ]
  },
  {
   "cell_type": "markdown",
   "id": "1da6fdc6",
   "metadata": {},
   "source": [
    "### Recall et precision en fonction du seuil\n",
    "Affichons les valeurs du recall et de la précision en fonction du seuil ainsi que la valeur de la précision en fonction du recall"
   ]
  },
  {
   "cell_type": "code",
   "execution_count": 14,
   "id": "3a641c3a",
   "metadata": {},
   "outputs": [
    {
     "data": {
      "text/plain": [
       "0.9936170212765958"
      ]
     },
     "execution_count": 14,
     "metadata": {},
     "output_type": "execute_result"
    }
   ],
   "source": [
    "from sklearn.metrics import precision_score, recall_score\n",
    "precision_score(y_train, y_train_pred)"
   ]
  },
  {
   "cell_type": "code",
   "execution_count": 15,
   "id": "2c011ad2",
   "metadata": {},
   "outputs": [
    {
     "data": {
      "text/plain": [
       "0.8164335664335665"
      ]
     },
     "execution_count": 15,
     "metadata": {},
     "output_type": "execute_result"
    }
   ],
   "source": [
    "recall_score(y_train, y_train_pred)"
   ]
  },
  {
   "cell_type": "code",
   "execution_count": 16,
   "id": "641230ee",
   "metadata": {},
   "outputs": [
    {
     "data": {
      "text/plain": [
       "0.8963531669865644"
      ]
     },
     "execution_count": 16,
     "metadata": {},
     "output_type": "execute_result"
    }
   ],
   "source": [
    "from sklearn.metrics import f1_score\n",
    "f1_score(y_train, y_train_pred) "
   ]
  },
  {
   "cell_type": "code",
   "execution_count": 17,
   "id": "05b3339f",
   "metadata": {},
   "outputs": [],
   "source": [
    "y_scores = best_RF_clf.predict(x)\n"
   ]
  },
  {
   "cell_type": "code",
   "execution_count": 18,
   "id": "0cf3b6f6",
   "metadata": {},
   "outputs": [],
   "source": [
    "y_scores = cross_val_predict(best_RF_clf, x_train, y_train_pred, cv=10,\n",
    "                            method=\"predict\")"
   ]
  },
  {
   "cell_type": "code",
   "execution_count": 19,
   "id": "4d006b7b",
   "metadata": {},
   "outputs": [],
   "source": [
    "from sklearn.metrics import precision_recall_curve\n",
    "precisions, recalls, thresholds = precision_recall_curve(y_train, y_scores)"
   ]
  },
  {
   "cell_type": "code",
   "execution_count": 21,
   "id": "1f29178a",
   "metadata": {},
   "outputs": [
    {
     "data": {
      "image/png": "[encoded data removed]",
      "text/plain": [
       "<Figure size 576x288 with 1 Axes>"
      ]
     },
     "metadata": {
      "needs_background": "light"
     },
     "output_type": "display_data"
    }
   ],
   "source": [
    "from matplotlib import pyplot as plt\n",
    "\n",
    "def plot_precision_recall_vs_threshold(precisions, recalls, thresholds):\n",
    "    plt.plot(thresholds, precisions[:-1], \"b-\", label=\"Precision\", linewidth=2)\n",
    "    plt.plot(thresholds, recalls[:-1], \"g-\", label=\"Recall\", linewidth=2)\n",
    "    plt.xlabel(\"Threshold\", fontsize=16)\n",
    "    plt.legend(loc=\"upper left\", fontsize=16)\n",
    "    plt.ylim([0, 1])\n",
    "\n",
    "plt.figure(figsize=(8, 4))\n",
    "plot_precision_recall_vs_threshold(precisions, recalls, thresholds)\n",
    "plt.xlim([0.6, 1])\n",
    "\n",
    "plt.show()"
   ]
  },
  {
   "cell_type": "code",
   "execution_count": 22,
   "id": "d0dfde11",
   "metadata": {},
   "outputs": [
    {
     "data": {
      "image/png": "[encoded data removed]",
      "text/plain": [
       "<Figure size 576x432 with 1 Axes>"
      ]
     },
     "metadata": {
      "needs_background": "light"
     },
     "output_type": "display_data"
    }
   ],
   "source": [
    "def plot_precision_vs_recall(precisions, recalls):\n",
    "    plt.plot(recalls, precisions, \"k-\", linewidth=2)\n",
    "    plt.xlabel(\"Recall\", fontsize=16)\n",
    "    plt.ylabel(\"Precision\", fontsize=16)\n",
    "    plt.axis([0, 1, 0, 1])\n",
    "\n",
    "plt.figure(figsize=(8, 6))\n",
    "plot_precision_vs_recall(precisions, recalls)\n",
    "\n",
    "plt.show()"
   ]
  },
  {
   "cell_type": "code",
   "execution_count": 23,
   "id": "1b2a59aa",
   "metadata": {},
   "outputs": [
    {
     "data": {
      "text/plain": [
       "(0.9956521739130435, 0.8006993006993007)"
      ]
     },
     "execution_count": 23,
     "metadata": {},
     "output_type": "execute_result"
    }
   ],
   "source": [
    "y_train_pred_90 = (y_scores > 0.8)\n",
    "\n",
    "precision_score(y_train, y_train_pred_90), recall_score(y_train, y_train_pred_90)"
   ]
  },
  {
   "cell_type": "markdown",
   "id": "d74653b2",
   "metadata": {},
   "source": [
    "### Courbe ROC\n",
    "Affichons la courbe roc afin de confronter notre taux de vrai positif par rapport au taux de faux positif. plus la courbe se rapproche du coin supérieur gauche, plus notre taux de vrai positif est idéal, et on évite un maximum de faux positif. On utilise l'air sous la courbe ROC afin de comparer nos modèles, qui doit être le plus proche de 1."
   ]
  },
  {
   "cell_type": "code",
   "execution_count": 24,
   "id": "19682d9d",
   "metadata": {},
   "outputs": [],
   "source": [
    "from sklearn.metrics import roc_curve\n",
    "\n",
    "y_scores_forest = y_probas_forest[:, 1] \n",
    "fpr_forest, tpr_forest, thresholds_forest = roc_curve(y_train, y_scores_forest)"
   ]
  },
  {
   "cell_type": "code",
   "execution_count": 25,
   "id": "c6ef2a23",
   "metadata": {},
   "outputs": [
    {
     "data": {
      "image/png": "[encoded data removed]",
      "text/plain": [
       "<Figure size 576x432 with 1 Axes>"
      ]
     },
     "metadata": {
      "needs_background": "light"
     },
     "output_type": "display_data"
    }
   ],
   "source": [
    "def plot_roc_curve(fpr_forest, tpr_forest):\n",
    "    plt.plot(fpr_forest, tpr_forest, linewidth=2)\n",
    "    plt.plot([0, 1], [0, 1], 'k--')\n",
    "    plt.axis([0, 1, 0, 1])\n",
    "    plt.xlabel('False Positive Rate', fontsize=16)\n",
    "    plt.ylabel('True Positive Rate', fontsize=16)\n",
    "\n",
    "plt.figure(figsize=(8, 6))\n",
    "plot_roc_curve(fpr_forest, tpr_forest)\n",
    "#save_fig(\"roc_curve_plot\")\n",
    "plt.show()"
   ]
  },
  {
   "cell_type": "code",
   "execution_count": 26,
   "id": "4a81b00b",
   "metadata": {},
   "outputs": [
    {
     "data": {
      "text/plain": [
       "0.9000113553564163"
      ]
     },
     "execution_count": 26,
     "metadata": {},
     "output_type": "execute_result"
    }
   ],
   "source": [
    "from sklearn.metrics import roc_auc_score #SOLUTION\n",
    "\n",
    "roc_auc_score(y_train, y_scores) "
   ]
  },
  {
   "cell_type": "code",
   "execution_count": 13,
   "id": "88586874",
   "metadata": {},
   "outputs": [],
   "source": [
    "np.save('variables/fpr_forest.npy', fpr_forest)\n",
    "np.save('variables/tpr_forest.npy', tpr_forest)\n"
   ]
  },
  {
   "cell_type": "code",
   "execution_count": 19,
   "id": "389a3224",
   "metadata": {},
   "outputs": [],
   "source": [
    "import pickle\n",
    "filename = 'variables/best_RF_clf.sav'\n",
    "pickle.dump(best_RF_clf, open(filename, 'wb'))"
   ]
  },
  {
   "cell_type": "code",
   "execution_count": null,
   "id": "74c2c895",
   "metadata": {},
   "outputs": [],
   "source": []
  }
 ],
 "metadata": {
  "kernelspec": {
   "display_name": "Python 3",
   "language": "python",
   "name": "python3"
  },
  "language_info": {
   "codemirror_mode": {
    "name": "ipython",
    "version": 3
   },
   "file_extension": ".py",
   "mimetype": "text/x-python",
   "name": "python",
   "nbconvert_exporter": "python",
   "pygments_lexer": "ipython3",
   "version": "3.8.8"
  }
 },
 "nbformat": 4,
 "nbformat_minor": 5
}
