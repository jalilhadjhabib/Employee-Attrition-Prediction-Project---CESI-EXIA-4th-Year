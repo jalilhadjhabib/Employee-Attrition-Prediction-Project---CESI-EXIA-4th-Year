{
 "cells": [
  {
   "cell_type": "code",
   "execution_count": 24,
   "id": "6ec50c93",
   "metadata": {},
   "outputs": [],
   "source": [
    "import numpy as np\n",
    "\n",
    "x=np.load(\"variables/x.npy\")\n",
    "y=np.load(\"variables/y.npy\")\n",
    "x_train=np.load(\"variables/x_train.npy\")\n",
    "x_test=np.load(\"variables/x_test.npy\")\n",
    "y_test=np.load(\"variables/y_test.npy\")\n",
    "y_train=np.load(\"variables/y_train.npy\")"
   ]
  },
  {
   "cell_type": "markdown",
   "id": "d2975cf1",
   "metadata": {},
   "source": [
    "### Perceptron"
   ]
  },
  {
   "cell_type": "code",
   "execution_count": 25,
   "id": "ba8f9218",
   "metadata": {},
   "outputs": [
    {
     "data": {
      "text/plain": [
       "Perceptron(random_state=42)"
      ]
     },
     "execution_count": 25,
     "metadata": {},
     "output_type": "execute_result"
    }
   ],
   "source": [
    "from sklearn.linear_model import Perceptron\n",
    "\n",
    "perceptron = Perceptron(tol=1e-3, random_state=42)\n",
    "perceptron.fit(x_train,y_train)"
   ]
  },
  {
   "cell_type": "code",
   "execution_count": 26,
   "id": "7391293c",
   "metadata": {},
   "outputs": [
    {
     "data": {
      "text/plain": [
       "0.8194444444444444"
      ]
     },
     "execution_count": 26,
     "metadata": {},
     "output_type": "execute_result"
    }
   ],
   "source": [
    "perceptron.score(x_train,y_train)"
   ]
  },
  {
   "cell_type": "markdown",
   "id": "9b5a6df2",
   "metadata": {},
   "source": [
    "### VALIDATION CROISÉE :"
   ]
  },
  {
   "cell_type": "code",
   "execution_count": 27,
   "id": "f4204e8a",
   "metadata": {},
   "outputs": [
    {
     "name": "stdout",
     "output_type": "stream",
     "text": [
      "Scores: [0.34482759 0.20833333 0.31724138 0.25165563 0.32432432 0.29411765\n",
      " 0.22754491 0.30434783 0.38674033 0.38095238]\n",
      "Mean: 0.30400853480834866\n",
      "Standard deviation: 0.05732202164609077\n"
     ]
    }
   ],
   "source": [
    "from sklearn.model_selection import cross_val_score\n",
    "\n",
    "def display_scores(scores):\n",
    "    print(\"Scores:\", scores)\n",
    "    print(\"Mean:\", scores.mean())\n",
    "    print(\"Standard deviation:\", scores.std())\n",
    "    \n",
    "perceptron_scores = cross_val_score(perceptron, x, \n",
    "                                      y, cv=10, scoring=\"f1\")\n",
    "display_scores(perceptron_scores)"
   ]
  },
  {
   "cell_type": "markdown",
   "id": "cab68908",
   "metadata": {},
   "source": [
    "### GridSearchCV\n",
    "Afin de trouver les meilleurs paramètres, nous allons utiliser la méthode d'optimisation GridSearchCV."
   ]
  },
  {
   "cell_type": "code",
   "execution_count": 28,
   "id": "888f6a8d",
   "metadata": {},
   "outputs": [
    {
     "data": {
      "text/plain": [
       "GridSearchCV(cv=7, estimator=Perceptron(random_state=42),\n",
       "             param_grid={'fit_intercept': [True, False],\n",
       "                         'max_iter': [500, 1000, 1500, 2000],\n",
       "                         'penalty': ['l1', 'l2', 'elasticnet']},\n",
       "             return_train_score=True, scoring='f1')"
      ]
     },
     "execution_count": 28,
     "metadata": {},
     "output_type": "execute_result"
    }
   ],
   "source": [
    "from sklearn.model_selection import GridSearchCV\n",
    "\n",
    "perceptron_param_grid = {'penalty' : ['l1', 'l2', 'elasticnet'],\n",
    "    'fit_intercept': [True, False],\n",
    "    'max_iter': [500, 1000, 1500, 2000]\n",
    "    }\n",
    "\n",
    "grid_search = GridSearchCV(perceptron, perceptron_param_grid, cv=7,\n",
    "                           scoring='f1', return_train_score=True)\n",
    "grid_search.fit(x_train, y_train)"
   ]
  },
  {
   "cell_type": "code",
   "execution_count": 29,
   "id": "c41c9877",
   "metadata": {},
   "outputs": [
    {
     "data": {
      "text/plain": [
       "{'fit_intercept': True, 'max_iter': 500, 'penalty': 'elasticnet'}"
      ]
     },
     "execution_count": 29,
     "metadata": {},
     "output_type": "execute_result"
    }
   ],
   "source": [
    "grid_search.best_params_"
   ]
  },
  {
   "cell_type": "code",
   "execution_count": 30,
   "id": "02c11929",
   "metadata": {},
   "outputs": [],
   "source": [
    "best_perceptron = grid_search.best_estimator_"
   ]
  },
  {
   "cell_type": "code",
   "execution_count": 31,
   "id": "d0ea893e",
   "metadata": {},
   "outputs": [
    {
     "name": "stdout",
     "output_type": "stream",
     "text": [
      "Scores: [0.42937853 0.36363636 0.37864078 0.4        0.3373494  0.408\n",
      " 0.45945946]\n",
      "Mean: 0.3966377897798086\n",
      "Standard deviation: 0.03796054842331022\n"
     ]
    }
   ],
   "source": [
    "best_perceptron_score = cross_val_score(best_perceptron, x_train, \n",
    "                                          y_train, cv=7, scoring=\"f1\")\n",
    "\n",
    "display_scores(best_perceptron_score)"
   ]
  },
  {
   "cell_type": "markdown",
   "id": "a7ec5910",
   "metadata": {},
   "source": [
    " ### Matrice de Confusion\n",
    " \n",
    "Nous allons maintenant utiliser afin d'étudier les performances de notre système de classification supervisé. Calculons maintenant cette matrice avec notre modèle amélioré."
   ]
  },
  {
   "cell_type": "code",
   "execution_count": 32,
   "id": "e4d735ec",
   "metadata": {},
   "outputs": [],
   "source": [
    "from sklearn.model_selection import cross_val_predict\n",
    "y_train_pred = cross_val_predict(perceptron, x_train, y_train, cv=3)"
   ]
  },
  {
   "cell_type": "code",
   "execution_count": 33,
   "id": "b9190e7e",
   "metadata": {},
   "outputs": [
    {
     "data": {
      "text/plain": [
       "array([[2659,  297],\n",
       "       [ 397,  175]], dtype=int64)"
      ]
     },
     "execution_count": 33,
     "metadata": {},
     "output_type": "execute_result"
    }
   ],
   "source": [
    "from sklearn.metrics import confusion_matrix\n",
    "confusion_matrix(y_train, y_train_pred)"
   ]
  },
  {
   "cell_type": "code",
   "execution_count": 34,
   "id": "2a6ae080",
   "metadata": {},
   "outputs": [
    {
     "data": {
      "text/plain": [
       "array([[2956,    0],\n",
       "       [   0,  572]], dtype=int64)"
      ]
     },
     "execution_count": 34,
     "metadata": {},
     "output_type": "execute_result"
    }
   ],
   "source": [
    "y_train_perfect_predictions = y_train\n",
    "confusion_matrix(y_train, y_train_perfect_predictions)"
   ]
  },
  {
   "cell_type": "markdown",
   "id": "c844d39e",
   "metadata": {},
   "source": [
    "### Recall et precision en fonction du seuil\n",
    "Affichons les valeurs du recall et de la précision en fonction du seuil ainsi que la valeur de la précision en fonction du recall"
   ]
  },
  {
   "cell_type": "code",
   "execution_count": 35,
   "id": "7264f300",
   "metadata": {},
   "outputs": [
    {
     "data": {
      "text/plain": [
       "0.3707627118644068"
      ]
     },
     "execution_count": 35,
     "metadata": {},
     "output_type": "execute_result"
    }
   ],
   "source": [
    "from sklearn.metrics import precision_score, recall_score\n",
    "precision_score(y_train, y_train_pred)"
   ]
  },
  {
   "cell_type": "code",
   "execution_count": 36,
   "id": "94ab0045",
   "metadata": {},
   "outputs": [
    {
     "data": {
      "text/plain": [
       "0.30594405594405594"
      ]
     },
     "execution_count": 36,
     "metadata": {},
     "output_type": "execute_result"
    }
   ],
   "source": [
    "recall_score(y_train, y_train_pred)"
   ]
  },
  {
   "cell_type": "code",
   "execution_count": 37,
   "id": "5448ec69",
   "metadata": {},
   "outputs": [],
   "source": [
    "y_scores = cross_val_predict(perceptron, x_train, y_train, cv=3,\n",
    "                             method=\"decision_function\")"
   ]
  },
  {
   "cell_type": "code",
   "execution_count": 38,
   "id": "a1bc2d83",
   "metadata": {},
   "outputs": [],
   "source": [
    "from sklearn.metrics import precision_recall_curve\n",
    "precisions, recalls, thresholds = precision_recall_curve(y_train, y_scores)"
   ]
  },
  {
   "cell_type": "code",
   "execution_count": 39,
   "id": "a6799c12",
   "metadata": {},
   "outputs": [
    {
     "ename": "NameError",
     "evalue": "name 'save_fig' is not defined",
     "output_type": "error",
     "traceback": [
      "\u001b[1;31m---------------------------------------------------------------------------\u001b[0m",
      "\u001b[1;31mNameError\u001b[0m                                 Traceback (most recent call last)",
      "\u001b[1;32m~\\AppData\\Local\\Temp/ipykernel_7624/511242895.py\u001b[0m in \u001b[0;36m<module>\u001b[1;34m\u001b[0m\n\u001b[0;32m     11\u001b[0m \u001b[0mplot_precision_recall_vs_threshold\u001b[0m\u001b[1;33m(\u001b[0m\u001b[0mprecisions\u001b[0m\u001b[1;33m,\u001b[0m \u001b[0mrecalls\u001b[0m\u001b[1;33m,\u001b[0m \u001b[0mthresholds\u001b[0m\u001b[1;33m)\u001b[0m\u001b[1;33m\u001b[0m\u001b[1;33m\u001b[0m\u001b[0m\n\u001b[0;32m     12\u001b[0m \u001b[0mplt\u001b[0m\u001b[1;33m.\u001b[0m\u001b[0mxlim\u001b[0m\u001b[1;33m(\u001b[0m\u001b[1;33m[\u001b[0m\u001b[1;33m-\u001b[0m\u001b[1;36m5\u001b[0m\u001b[1;33m,\u001b[0m \u001b[1;36m0\u001b[0m\u001b[1;33m]\u001b[0m\u001b[1;33m)\u001b[0m\u001b[1;33m\u001b[0m\u001b[1;33m\u001b[0m\u001b[0m\n\u001b[1;32m---> 13\u001b[1;33m \u001b[0msave_fig\u001b[0m\u001b[1;33m(\u001b[0m\u001b[1;34m\"precision_recall_vs_threshold_plot\"\u001b[0m\u001b[1;33m)\u001b[0m\u001b[1;33m\u001b[0m\u001b[1;33m\u001b[0m\u001b[0m\n\u001b[0m\u001b[0;32m     14\u001b[0m \u001b[0mplt\u001b[0m\u001b[1;33m.\u001b[0m\u001b[0mshow\u001b[0m\u001b[1;33m(\u001b[0m\u001b[1;33m)\u001b[0m\u001b[1;33m\u001b[0m\u001b[1;33m\u001b[0m\u001b[0m\n",
      "\u001b[1;31mNameError\u001b[0m: name 'save_fig' is not defined"
     ]
    },
    {
     "data": {
      "image/png": "[encoded data removed]",
      "text/plain": [
       "<Figure size 576x288 with 1 Axes>"
      ]
     },
     "metadata": {
      "needs_background": "light"
     },
     "output_type": "display_data"
    }
   ],
   "source": [
    "from matplotlib import pyplot as plt\n",
    "\n",
    "def plot_precision_recall_vs_threshold(precisions, recalls, thresholds):\n",
    "    plt.plot(thresholds, precisions[:-1], \"b-\", label=\"Precision\", linewidth=2)\n",
    "    plt.plot(thresholds, recalls[:-1], \"g-\", label=\"Recall\", linewidth=2)\n",
    "    plt.xlabel(\"Threshold\", fontsize=16)\n",
    "    plt.legend(loc=\"upper left\", fontsize=16)\n",
    "    plt.ylim([0, 1])\n",
    "\n",
    "plt.figure(figsize=(8, 4))\n",
    "plot_precision_recall_vs_threshold(precisions, recalls, thresholds)\n",
    "plt.xlim([-5, 0])\n",
    "save_fig(\"precision_recall_vs_threshold_plot\")\n",
    "plt.show()"
   ]
  },
  {
   "cell_type": "code",
   "execution_count": null,
   "id": "a08c6953",
   "metadata": {},
   "outputs": [],
   "source": [
    "def plot_precision_vs_recall(precisions, recalls):\n",
    "    plt.plot(recalls, precisions, \"k-\", linewidth=2)\n",
    "    plt.xlabel(\"Recall\", fontsize=16)\n",
    "    plt.ylabel(\"Precision\", fontsize=16)\n",
    "    plt.axis([0, 1, 0, 1])\n",
    "\n",
    "plt.figure(figsize=(8, 6))\n",
    "plot_precision_vs_recall(precisions, recalls)\n",
    "save_fig(\"precision_vs_recall_plot\")\n",
    "plt.show()"
   ]
  },
  {
   "cell_type": "markdown",
   "id": "fe46b028",
   "metadata": {},
   "source": [
    "### Courbe ROC\n",
    "Affichons la courbe roc afin de confronter notre taux de vrai positif par rapport au taux de faux positif. plus la courbe se rapproche du coin supérieur gauche, plus notre taux de vrai positif est idéal, et on évite un maximum de faux positif. On utilise l'air sous la courbe ROC afin de comparer nos modèles, qui doit être le plus proche de 1."
   ]
  },
  {
   "cell_type": "code",
   "execution_count": null,
   "id": "dc278048",
   "metadata": {},
   "outputs": [],
   "source": [
    "from sklearn.metrics import roc_curve\n",
    "\n",
    "fpr_perceptron, tpr_perceptron, thresholds = roc_curve(y_train, y_scores)"
   ]
  },
  {
   "cell_type": "code",
   "execution_count": null,
   "id": "e2ee638e",
   "metadata": {},
   "outputs": [],
   "source": [
    "def plot_roc_curve(fpr_perceptron, tpr_perceptron, label=None):\n",
    "    plt.plot(fpr_perceptron, tpr_perceptron, linewidth=2, label=label)\n",
    "    plt.plot([0, 1], [0, 1], 'k--')\n",
    "    plt.axis([0, 1, 0, 1])\n",
    "    plt.xlabel('False Positive Rate', fontsize=16)\n",
    "    plt.ylabel('True Positive Rate', fontsize=16)\n",
    "\n",
    "plt.figure(figsize=(8, 6))\n",
    "plot_roc_curve(fpr_perceptron, tpr_perceptron)\n",
    "\n",
    "plt.show()"
   ]
  },
  {
   "cell_type": "code",
   "execution_count": null,
   "id": "94d086f6",
   "metadata": {},
   "outputs": [],
   "source": [
    "from sklearn.metrics import roc_auc_score \n",
    "\n",
    "roc_auc_score(y_train, y_scores) "
   ]
  },
  {
   "cell_type": "code",
   "execution_count": 41,
   "id": "521d7c2e",
   "metadata": {},
   "outputs": [],
   "source": [
    "np.save('variables/fpr_perceptron.npy', fpr_perceptron)\n",
    "np.save('variables/tpr_perceptron.npy', tpr_perceptron)"
   ]
  },
  {
   "cell_type": "code",
   "execution_count": null,
   "id": "9cebd255",
   "metadata": {},
   "outputs": [],
   "source": []
  }
 ],
 "metadata": {
  "kernelspec": {
   "display_name": "Python 3",
   "language": "python",
   "name": "python3"
  },
  "language_info": {
   "codemirror_mode": {
    "name": "ipython",
    "version": 3
   },
   "file_extension": ".py",
   "mimetype": "text/x-python",
   "name": "python",
   "nbconvert_exporter": "python",
   "pygments_lexer": "ipython3",
   "version": "3.8.8"
  }
 },
 "nbformat": 4,
 "nbformat_minor": 5
}
