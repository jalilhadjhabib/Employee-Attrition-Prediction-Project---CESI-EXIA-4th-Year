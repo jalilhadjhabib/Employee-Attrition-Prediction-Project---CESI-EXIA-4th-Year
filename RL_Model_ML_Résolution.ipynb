{
 "cells": [
  {
   "cell_type": "code",
   "execution_count": 1,
   "id": "88fbc902",
   "metadata": {},
   "outputs": [],
   "source": [
    "import numpy as np\n",
    "\n",
    "x=np.load(\"variables/x.npy\")\n",
    "y=np.load(\"variables/y.npy\")\n",
    "x_train=np.load(\"variables/x_train.npy\")\n",
    "x_test=np.load(\"variables/x_test.npy\")\n",
    "y_test=np.load(\"variables/y_test.npy\")\n",
    "y_train=np.load(\"variables/y_train.npy\")"
   ]
  },
  {
   "cell_type": "markdown",
   "id": "bc927522",
   "metadata": {},
   "source": [
    "### REGRESSION LOGISTIQUE"
   ]
  },
  {
   "cell_type": "code",
   "execution_count": 2,
   "id": "3e6f1dc0",
   "metadata": {},
   "outputs": [],
   "source": [
    "from sklearn.linear_model import LogisticRegression\n",
    "\n",
    "logistic_reg = LogisticRegression()\n",
    "logistic_reg.fit(x_train,y_train)\n",
    "logistic_reg_pred = logistic_reg.predict(x_test)"
   ]
  },
  {
   "cell_type": "markdown",
   "id": "7ca91066",
   "metadata": {},
   "source": [
    "### VALIDATION CROISÉE"
   ]
  },
  {
   "cell_type": "code",
   "execution_count": 3,
   "id": "07c845bc",
   "metadata": {},
   "outputs": [
    {
     "name": "stdout",
     "output_type": "stream",
     "text": [
      "Scores: [0.35643564 0.3125     0.34042553 0.375      0.32323232 0.31111111\n",
      " 0.34951456 0.37113402 0.32258065 0.31914894]\n",
      "Mean: 0.338108277487954\n",
      "Standard deviation: 0.022648516813248205\n"
     ]
    }
   ],
   "source": [
    "from sklearn.model_selection import cross_val_score\n",
    "\n",
    "def display_scores(scores):\n",
    "    print(\"Scores:\", scores)\n",
    "    print(\"Mean:\", scores.mean())\n",
    "    print(\"Standard deviation:\", scores.std())\n",
    "    \n",
    "logistic_reg_scores = cross_val_score(logistic_reg, x, \n",
    "                                      y, cv=10, scoring=\"f1\")\n",
    "\n",
    "display_scores(logistic_reg_scores)"
   ]
  },
  {
   "cell_type": "markdown",
   "id": "aae4423e",
   "metadata": {},
   "source": [
    "#### Paramétrage du modèle (_fine tuning_)\n",
    "\n",
    "Afin de trouver les meilleurs paramètres, nous allons utiliser la méthode d'optimisation GridSearchCV.\n"
   ]
  },
  {
   "cell_type": "markdown",
   "id": "73adcba0",
   "metadata": {},
   "source": [
    "### GridSearchCV"
   ]
  },
  {
   "cell_type": "code",
   "execution_count": 4,
   "id": "e5f5f773",
   "metadata": {},
   "outputs": [
    {
     "data": {
      "text/plain": [
       "GridSearchCV(cv=10, estimator=LogisticRegression(),\n",
       "             param_grid=[{'C': [100, 10, 1.0, 0.1, 0.01],\n",
       "                          'penalty': ['none', 'l1', 'l2', 'elasticnet'],\n",
       "                          'solver': ['newton-cg', 'lbfgs', 'liblinear', 'sag',\n",
       "                                     'saga']}],\n",
       "             return_train_score=True, scoring='f1')"
      ]
     },
     "execution_count": 4,
     "metadata": {},
     "output_type": "execute_result"
    }
   ],
   "source": [
    "%%capture --no-display\n",
    "from sklearn.model_selection import GridSearchCV\n",
    "\n",
    "logistic_reg_param_grid = [\n",
    "    {'solver': ['newton-cg', 'lbfgs', 'liblinear', 'sag', 'saga'], \n",
    "     'penalty': ['none', 'l1', 'l2', 'elasticnet'], \n",
    "     'C': [100, 10, 1.0, 0.1, 0.01]}\n",
    "  ]\n",
    "\n",
    "grid_search = GridSearchCV(logistic_reg, logistic_reg_param_grid, cv=10,\n",
    "                           scoring='f1', return_train_score=True)\n",
    "grid_search.fit(x, y)"
   ]
  },
  {
   "cell_type": "code",
   "execution_count": 5,
   "id": "0b3d7f33",
   "metadata": {},
   "outputs": [
    {
     "data": {
      "text/plain": [
       "{'C': 100, 'penalty': 'none', 'solver': 'newton-cg'}"
      ]
     },
     "execution_count": 5,
     "metadata": {},
     "output_type": "execute_result"
    }
   ],
   "source": [
    "grid_search.best_params_"
   ]
  },
  {
   "cell_type": "code",
   "execution_count": 6,
   "id": "fe0dec5e",
   "metadata": {},
   "outputs": [],
   "source": [
    "best_logistic_reg = grid_search.best_estimator_"
   ]
  },
  {
   "cell_type": "code",
   "execution_count": 7,
   "id": "9cccacd0",
   "metadata": {},
   "outputs": [],
   "source": [
    "%%capture --no-display\n",
    "best_logistic_reg_score = cross_val_score(best_logistic_reg, x, \n",
    "                                          y, cv=10, scoring=\"f1\")"
   ]
  },
  {
   "cell_type": "code",
   "execution_count": 8,
   "id": "4922186e",
   "metadata": {},
   "outputs": [
    {
     "name": "stdout",
     "output_type": "stream",
     "text": [
      "Scores: [0.35643564 0.3125     0.34042553 0.37113402 0.32323232 0.32967033\n",
      " 0.36538462 0.37113402 0.32258065 0.33684211]\n",
      "Mean: 0.34293392354280805\n",
      "Standard deviation: 0.02055426684823329\n"
     ]
    }
   ],
   "source": [
    "display_scores(best_logistic_reg_score)"
   ]
  },
  {
   "cell_type": "markdown",
   "id": "f6b9b3ac",
   "metadata": {},
   "source": [
    "On peut voir que le modèle s'est un peu amélioré, comme l'on peut le voir avec la moyenne du f1_score"
   ]
  },
  {
   "cell_type": "markdown",
   "id": "d0b5cf87",
   "metadata": {},
   "source": [
    "#### Matrice de Confusion\n",
    "\n",
    "Nous allons maintenant utiliser afin d'étudier les performances de notre système de classification supervisé. Calculons maintenant cette matrice avec notre modèle amélioré."
   ]
  },
  {
   "cell_type": "code",
   "execution_count": 9,
   "id": "88847670",
   "metadata": {},
   "outputs": [],
   "source": [
    "%%capture --no-display\n",
    "from sklearn.model_selection import cross_val_predict\n",
    "\n",
    "y_true = (y == 1)\n",
    "\n",
    "best_logistic_reg_pred = cross_val_predict(best_logistic_reg, x, y_true, cv=10)"
   ]
  },
  {
   "cell_type": "code",
   "execution_count": 10,
   "id": "50a8fbab",
   "metadata": {},
   "outputs": [
    {
     "data": {
      "text/plain": [
       "array([[3609,   90],\n",
       "       [ 545,  166]], dtype=int64)"
      ]
     },
     "execution_count": 10,
     "metadata": {},
     "output_type": "execute_result"
    }
   ],
   "source": [
    "from sklearn.metrics import confusion_matrix\n",
    "\n",
    "confusion_matrix(y_true, best_logistic_reg_pred)"
   ]
  },
  {
   "cell_type": "code",
   "execution_count": 11,
   "id": "cd57b2a9",
   "metadata": {},
   "outputs": [
    {
     "data": {
      "text/plain": [
       "0.6484375"
      ]
     },
     "execution_count": 11,
     "metadata": {},
     "output_type": "execute_result"
    }
   ],
   "source": [
    "from sklearn.metrics import precision_score, recall_score, f1_score\n",
    "precision_score(y_true, best_logistic_reg_pred)"
   ]
  },
  {
   "cell_type": "code",
   "execution_count": 12,
   "id": "728a991f",
   "metadata": {},
   "outputs": [
    {
     "data": {
      "text/plain": [
       "0.23347398030942335"
      ]
     },
     "execution_count": 12,
     "metadata": {},
     "output_type": "execute_result"
    }
   ],
   "source": [
    "recall_score(y_true, best_logistic_reg_pred)"
   ]
  },
  {
   "cell_type": "code",
   "execution_count": 13,
   "id": "aa0a8a07",
   "metadata": {},
   "outputs": [
    {
     "data": {
      "text/plain": [
       "0.34332988624612204"
      ]
     },
     "execution_count": 13,
     "metadata": {},
     "output_type": "execute_result"
    }
   ],
   "source": [
    "f1_score(y_true, best_logistic_reg_pred)"
   ]
  },
  {
   "cell_type": "markdown",
   "id": "58126787",
   "metadata": {},
   "source": [
    "#### Recall et precision en fonction du seuil\n",
    "\n",
    "Affichons les valeurs du recall et de la précision en fonction du seuil ainsi que la valeur de la précision en fonction du recall"
   ]
  },
  {
   "cell_type": "code",
   "execution_count": 14,
   "id": "5873d93d",
   "metadata": {},
   "outputs": [],
   "source": [
    "%%capture --no-display\n",
    "y_scores = cross_val_predict(best_logistic_reg, x, y_true, cv=10,\n",
    "                             method=\"decision_function\")"
   ]
  },
  {
   "cell_type": "code",
   "execution_count": 15,
   "id": "c5ba3bc7",
   "metadata": {},
   "outputs": [],
   "source": [
    "from sklearn.metrics import precision_recall_curve\n",
    "\n",
    "precisions, recalls, thresholds = precision_recall_curve(y_true, y_scores)"
   ]
  },
  {
   "cell_type": "code",
   "execution_count": 16,
   "id": "1a81725e",
   "metadata": {},
   "outputs": [
    {
     "data": {
      "image/png": "[encoded data removed]",
      "text/plain": [
       "<Figure size 576x288 with 1 Axes>"
      ]
     },
     "metadata": {
      "needs_background": "light"
     },
     "output_type": "display_data"
    }
   ],
   "source": [
    "from matplotlib import pyplot as plt\n",
    "\n",
    "def plot_precision_recall_vs_threshold(precisions, recalls, thresholds):\n",
    "    plt.plot(thresholds, precisions[:-1], \"b-\", label=\"Precision\", linewidth=2)\n",
    "    plt.plot(thresholds, recalls[:-1], \"g-\", label=\"Recall\", linewidth=2)\n",
    "    plt.xlabel(\"Threshold\", fontsize=16)\n",
    "    plt.legend(loc=\"upper left\", fontsize=16)\n",
    "    plt.ylim([0, 1])\n",
    "\n",
    "plt.figure(figsize=(8, 4))\n",
    "plot_precision_recall_vs_threshold(precisions, recalls, thresholds)\n",
    "plt.xlim([-1, 0])\n",
    "#save_fig(\"precision_recall_vs_threshold_plot\")\n",
    "plt.show()"
   ]
  },
  {
   "cell_type": "code",
   "execution_count": 17,
   "id": "0a140ff9",
   "metadata": {},
   "outputs": [
    {
     "data": {
      "image/png": "[encoded data removed]",
      "text/plain": [
       "<Figure size 576x432 with 1 Axes>"
      ]
     },
     "metadata": {
      "needs_background": "light"
     },
     "output_type": "display_data"
    }
   ],
   "source": [
    "def plot_precision_vs_recall(precisions, recalls):\n",
    "    plt.plot(recalls, precisions, \"k-\", linewidth=2)\n",
    "    plt.xlabel(\"Recall\", fontsize=16)\n",
    "    plt.ylabel(\"Precision\", fontsize=16)\n",
    "    plt.axis([0, 1, 0, 1])\n",
    "\n",
    "plt.figure(figsize=(8, 6))\n",
    "plot_precision_vs_recall(precisions, recalls)\n",
    "#save_fig(\"precision_vs_recall_plot\")\n",
    "plt.show()"
   ]
  },
  {
   "cell_type": "markdown",
   "id": "a27a5fc1",
   "metadata": {},
   "source": [
    "#### Courbe ROC\n",
    "\n",
    "Affichons la courbe roc afin de confronter notre taux de vrai positif par rapport au taux de faux positif. plus la courbe se rapproche du coin supérieur gauche, plus notre taux de vrai positif est idéal, et on évite un maximum de faux positif. On utilise l'air sous la courbe ROC afin de comparer nos modèles, qui doit être le plus proche de 1."
   ]
  },
  {
   "cell_type": "code",
   "execution_count": 18,
   "id": "3bf57ff3",
   "metadata": {},
   "outputs": [],
   "source": [
    "from sklearn.metrics import roc_curve\n",
    "\n",
    "fpr_rl, tpr_rl, thresholds = roc_curve(y_true, y_scores)"
   ]
  },
  {
   "cell_type": "code",
   "execution_count": 19,
   "id": "c6367cc4",
   "metadata": {},
   "outputs": [
    {
     "data": {
      "image/png": "[encoded data removed]",
      "text/plain": [
       "<Figure size 576x432 with 1 Axes>"
      ]
     },
     "metadata": {
      "needs_background": "light"
     },
     "output_type": "display_data"
    }
   ],
   "source": [
    "def plot_roc_curve(fpr_rl, tpr_rl, label=None):\n",
    "    plt.plot(fpr_rl, tpr_rl, linewidth=2, label=label)\n",
    "    plt.plot([0, 1], [0, 1], 'k--')\n",
    "    plt.axis([0, 1, 0, 1])\n",
    "    plt.xlabel('False Positive Rate', fontsize=16)\n",
    "    plt.ylabel('True Positive Rate', fontsize=16)\n",
    "\n",
    "plt.figure(figsize=(8, 6))\n",
    "plot_roc_curve(fpr_rl, tpr_rl)\n",
    "#save_fig(\"roc_curve_plot\")\n",
    "plt.show()"
   ]
  },
  {
   "cell_type": "code",
   "execution_count": 20,
   "id": "d39c9ecc",
   "metadata": {},
   "outputs": [
    {
     "data": {
      "text/plain": [
       "0.801937194414121"
      ]
     },
     "execution_count": 20,
     "metadata": {},
     "output_type": "execute_result"
    }
   ],
   "source": [
    "from sklearn.metrics import roc_auc_score\n",
    "roc_auc_score(y_true, y_scores)"
   ]
  },
  {
   "cell_type": "code",
   "execution_count": 22,
   "id": "26536c9c",
   "metadata": {},
   "outputs": [],
   "source": [
    "np.save('variables/fpr_rl.npy', fpr_rl)\n",
    "np.save('variables/tpr_rl.npy', tpr_rl)"
   ]
  },
  {
   "cell_type": "code",
   "execution_count": null,
   "id": "41b8bc7e",
   "metadata": {},
   "outputs": [],
   "source": []
  }
 ],
 "metadata": {
  "kernelspec": {
   "display_name": "Python 3",
   "language": "python",
   "name": "python3"
  },
  "language_info": {
   "codemirror_mode": {
    "name": "ipython",
    "version": 3
   },
   "file_extension": ".py",
   "mimetype": "text/x-python",
   "name": "python",
   "nbconvert_exporter": "python",
   "pygments_lexer": "ipython3",
   "version": "3.8.8"
  }
 },
 "nbformat": 4,
 "nbformat_minor": 5
}
